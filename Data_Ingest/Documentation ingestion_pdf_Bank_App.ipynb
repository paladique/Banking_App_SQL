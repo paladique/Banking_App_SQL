{
 "cells": [
  {
   "cell_type": "markdown",
   "metadata": {},
   "source": [
    "Links to Github:\n",
    "gh repo clone MicrosoftDocs/SupportArticles-docs : Get Support Troubleshooting\n",
    "gh repo clone MicrosoftDocs/sql-docs : Get SQL Docs\n",
    "gh repo clone MicrosoftDocs/azure-databases-docs: Get Azure Databases"
   ]
  },
  {
   "cell_type": "code",
   "execution_count": 1,
   "metadata": {},
   "outputs": [],
   "source": [
    "# pip install langchain_community langchain_sqlserver langchain_openai unstructured python-dotenv sqlalchemy pandas "
   ]
  },
  {
   "cell_type": "code",
   "execution_count": 17,
   "metadata": {},
   "outputs": [],
   "source": [
    "# -------------------------\n",
    "# 1. Imports & Environment\n",
    "# -------------------------\n",
    "import os\n",
    "import re\n",
    "import json\n",
    "import pandas as pd\n",
    "from dotenv import load_dotenv\n",
    "\n",
    "# For PDF partitioning/extraction\n",
    "from unstructured.partition.auto import partition\n",
    "from unstructured.chunking.title import chunk_by_title\n",
    "\n",
    "# Progress\n",
    "from tqdm import tqdm\n",
    "import numpy as np\n",
    "\n",
    "# For embeddings\n",
    "import openai\n",
    "from langchain_openai import AzureOpenAIEmbeddings\n",
    "\n",
    "# For SQL\n",
    "from sqlalchemy import create_engine, text\n",
    "from urllib.parse import quote_plus\n",
    "\n",
    "# For vector store\n",
    "from langchain_sqlserver import SQLServer_VectorStore\n",
    "from langchain_community.vectorstores.utils import DistanceStrategy\n",
    "from langchain_openai import AzureChatOpenAI, AzureOpenAIEmbeddings\n",
    "import urllib.parse"
   ]
  },
  {
   "cell_type": "code",
   "execution_count": null,
   "metadata": {},
   "outputs": [],
   "source": [
    "\n",
    "# Load the .env file from the specified path\n",
    "load_dotenv(override=True)\n",
    "\n",
    "AZURE_OPENAI_KEY = os.getenv('AZURE_OPENAI_KEY')\n",
    "AZURE_OPENAI_ENDPOINT = os.getenv('AZURE_OPENAI_ENDPOINT')\n",
    "AZURE_OPENAI_DEPLOYMENT_EMBED = os.getenv('AZURE_OPENAI_EMBEDDING_DEPLOYMENT')\n",
    "AZURE_OPENAI_DEPLOYMENT = os.getenv('AZURE_OPENAI_DEPLOYMENT')\n",
    "\n",
    "# SQL DB credentials\n",
    "# --- Database Configuration ---\n",
    "server = os.getenv('DB_SERVER')\n",
    "database = os.getenv('DB_DATABASE')\n",
    "driver = os.getenv('DB_DRIVER', 'ODBC Driver 18 for SQL Server')\n",
    "\n",
    "connection_string = os.getenv('FABRIC_SQL_CONNECTION_URL_BANK_DATA')\n",
    "\n",
    "connection_url = f\"mssql+pyodbc:///?odbc_connect={connection_string}\"\n",
    "\n",
    "engine = create_engine(connection_url, connect_args={\"connect_timeout\": 30})\n",
    "\n",
    "\n",
    "# Setup Vector Store\n",
    "# --- Instantiate your AzureOpenAIEmbeddings ---\n",
    "embeddings = AzureOpenAIEmbeddings(\n",
    "    azure_endpoint=os.getenv(\"AZURE_OPENAI_ENDPOINT\"),\n",
    "    azure_deployment=os.getenv(\"AZURE_OPENAI_EMBEDDING_DEPLOYMENT\"),\n",
    "    openai_api_version=\"2024-10-21\",\n",
    "    openai_api_key=os.getenv(\"AZURE_OPENAI_KEY\"),\n",
    ")\n",
    "\n",
    "# --- Build the VectorStore object ---\n",
    "vector_store = SQLServer_VectorStore(\n",
    "    connection_string=connection_url,           # same ODBC DSN used above\n",
    "    distance_strategy=DistanceStrategy.COSINE,  # or DOT_PRODUCT, etc.\n",
    "    embedding_function=embeddings,              # text-embedding-ada-002\n",
    "    embedding_length=1536,                      # Vector dimension\n",
    "    table_name=\"DocsChunks_Embeddings\",         # Use the name you prefer\n",
    ")\n",
    "\n",
    "# Use AzureChatOpenAI for chat completions\n",
    "llm = AzureChatOpenAI(\n",
    "    azure_endpoint=AZURE_OPENAI_ENDPOINT,\n",
    "    azure_deployment=AZURE_OPENAI_DEPLOYMENT,\n",
    "    openai_api_version=\"2024-10-21\",\n",
    "    openai_api_key=AZURE_OPENAI_KEY,\n",
    ")"
   ]
  },
  {
   "cell_type": "code",
   "execution_count": 20,
   "metadata": {},
   "outputs": [
    {
     "name": "stdout",
     "output_type": "stream",
     "text": [
      "Warning: No languages specified, defaulting to English.\n"
     ]
    }
   ],
   "source": [
    "# ---------------\n",
    "# 2. PDF Parsing\n",
    "# ---------------\n",
    "def chunk_text(text: str, chunk_size: int = 500, overlap: int = 100) -> list:\n",
    "    \"\"\"\n",
    "    Simple text-chunking utility.\n",
    "    Splits the text into chunks of `chunk_size` characters\n",
    "    with `overlap` characters overlap between chunks.\n",
    "    \"\"\"\n",
    "    chunks = []\n",
    "    start = 0\n",
    "    while start < len(text):\n",
    "        end = start + chunk_size\n",
    "        chunk = text[start:end]\n",
    "        chunks.append(chunk)\n",
    "        start = end - overlap  # move the start back by overlap\n",
    "        if start < 0:\n",
    "            start = 0\n",
    "    return chunks\n",
    "\n",
    "pdf_path = \"RAG_Preparation/SecureBank - Frequently Asked Questions.pdf\"\n",
    "\n",
    "elements = partition(pdf_path)\n",
    "pdf_text = \"\\n\".join([el.text for el in elements if el.text])  # combine into one big string\n",
    "\n",
    "cleaned = re.sub(r'[^a-zA-Z0-9\\s]', '', str(pdf_text))\n",
    "# cleaned = ' '.join(cleaned.split())\n",
    "cleaned = cleaned.strip()\n",
    "\n",
    "# Break into smaller chunks for embeddings\n",
    "chunks = chunk_text(cleaned, chunk_size=500, overlap=100)\n"
   ]
  },
  {
   "cell_type": "code",
   "execution_count": 21,
   "metadata": {},
   "outputs": [
    {
     "data": {
      "text/plain": [
       "['SecureBank  Frequently Asked Questions\\nThis document provides answers to common questions about SecureBanks products and services\\nI Checking Accounts\\nQ How do I open a new checking account\\nA You can open a new checking account in one of three ways\\n1 Online Visit our website at wwwsecurebankcom and click on Open an Account The online application takes about 10 minutes to complete You will need your Social Security Number a valid governmentissued ID and proof of address\\n2 Mobile App Download the S',\n",
       " ' Social Security Number a valid governmentissued ID and proof of address\\n2 Mobile App Download the SecureBank app from the App Store or Google Play Tap on\\nNew User and follow the prompts to open an account\\n3 InPerson Visit any of our branch locations during business hours A personal banker\\nwill be happy to assist you with the process\\nQ What are the benefits of a SecureBank checking account\\nA Our checking accounts come with a variety of features including\\nNo monthly maintenance fees with a minimu',\n",
       " 'hecking accounts come with a variety of features including\\nNo monthly maintenance fees with a minimum daily balance of 500 or a direct deposit\\nof 250 or more per month\\nFree access to over 60000 ATMs nationwide  A complimentary debit card with chip technology for enhanced security  Free online banking and bill pay  Mobile check deposit through our mobile app  Overdraft protection options\\nQ Is there a minimum deposit to open a checking account\\nA Yes a minimum initial deposit of 25 is required to o',\n",
       " ' a minimum deposit to open a checking account\\nA Yes a minimum initial deposit of 25 is required to open a new checking account\\nQ How do I set up direct deposit\\nA To set up direct deposit you will need to provide your employer or benefits provider with our banks routing number 123456789 and your checking account number You can find your account number on your monthly statement in your online banking portal or at the bottom of your checks\\nII Savings Accounts\\nQ How can I open a savings account\\nA Th',\n",
       " 'g portal or at the bottom of your checks\\nII Savings Accounts\\nQ How can I open a savings account\\nA The process is identical to opening a checking account You can apply online through our mobile app or by visiting a branch Existing customers can often open a new savings account directly from their online banking dashboard in just a few clicks\\nQ What is the interest rate on the savings account\\nA Our savings accounts offer a competitive Annual Percentage Yield APY For the most current rates please v',\n",
       " 'savings accounts offer a competitive Annual Percentage Yield APY For the most current rates please visit the Rates page on our website or contact a customer service representative Rates are variable and may change\\nQ Are there any fees associated with the savings account\\nA There is no monthly service fee for our savings accounts However federal regulations limit certain types of withdrawals and transfers from savings accounts to six 6 per monthly statement cycle A fee may be assessed for excessiv',\n",
       " 'nsfers from savings accounts to six 6 per monthly statement cycle A fee may be assessed for excessive transactions\\nQ Can I link my savings account to my checking account for overdraft protection\\nA Yes We highly recommend linking your savings account as an overdraft protection source If you overdraw your checking account we will automatically transfer funds from your linked savings account to cover the transaction helping you avoid overdraft fees You can set this up through your online banking po',\n",
       " ' the transaction helping you avoid overdraft fees You can set this up through your online banking portal or by speaking with a banker\\nIII Credit Cards\\nQ How do I apply for a SecureBank credit card\\nA You can apply for any of our credit cards online through our website The application is secure and you will typically receive a decision within a few minutes A credit check is required as part of the application process\\nQ What types of credit cards do you offer\\nA We offer a range of credit cards to s',\n",
       " 'pplication process\\nQ What types of credit cards do you offer\\nA We offer a range of credit cards to suit different needs\\nCash Back Rewards Card Earn 2 cash back on groceries and dining and 1 on all\\nother purchases\\nTravel Rewards Card Earn points redeemable with our partners including Global\\nAirlines and the Prestige Hotel Group\\nSecured Credit Card A great option for building or rebuilding your credit Requires a\\nsecurity deposit\\nLow APR Card Ideal for those who may carry a balance from month to mo',\n",
       " 'it Requires a\\nsecurity deposit\\nLow APR Card Ideal for those who may carry a balance from month to month\\nQ What are the interest rates APR for your credit cards\\nA Our Annual Percentage Rates APRs are variable and based on your creditworthiness As of the latest update the ranges are\\nCash Back Rewards Card 1599  2399  Travel Rewards Card 1699  2499  Secured Credit Card Fixed at 2199  Low APR Card 1199  1999 These rates may vary with the market based on the Prime Rate\\nQ What happens if I make a late',\n",
       " '9  1999 These rates may vary with the market based on the Prime Rate\\nQ What happens if I make a late payment\\nA A late payment can have several consequences A late fee of up to 35 may be charged to your account Additionally late payments may be reported to credit bureaus which can negatively impact your credit score If you are having trouble making a payment please contact us as soon as possible to discuss your options\\nQ How do I make a payment on my credit card\\nA Payments can be made easily thro',\n",
       " ' discuss your options\\nQ How do I make a payment on my credit card\\nA Payments can be made easily through\\nOnline Banking The simplest way is to transfer funds from your SecureBank checking\\nor savings account\\nMobile App Pay your bill anytime anywhere from your smartphone  By Phone Call the number on the back of your card to make a payment  By Mail Send a check or money order to the payment address listed on your monthly statement\\nIV Money Transfers\\nQ How can I transfer money to another person\\nA We ',\n",
       " 'sted on your monthly statement\\nIV Money Transfers\\nQ How can I transfer money to another person\\nA We offer several convenient ways to send money\\nZelle Integrated into our mobile app and online banking Zelle allows you to send\\nmoney instantly and securely to almost anyone with a US bank account using just their email address or US mobile number There are no fees to use Zelle\\nAccounttoAccount Transfers You can transfer funds to another SecureBank\\ncustomers account if you have their account number\\nW',\n",
       " 'rs You can transfer funds to another SecureBank\\ncustomers account if you have their account number\\nWire Transfers For large or international transfers we offer domestic and international wire transfer services Fees apply for this service You can initiate a wire transfer at any branch location\\nQ Are there limits on how much money I can transfer\\nA Yes transfer limits apply and vary depending on the method used\\nZelle Daily and monthly limits apply Please refer to the Zelle section in our mobile\\napp',\n",
       " 'method used\\nZelle Daily and monthly limits apply Please refer to the Zelle section in our mobile\\napp for specific limits associated with your account\\nWire Transfers These have much higher limits suitable for large transactions like real\\nestate purchases Please speak with a banker for details\\nQ Is it safe to transfer money using the mobile app\\nA Absolutely We use multilayer security including data encryption and fraud monitoring to protect your account and transactions We recommend you only send ',\n",
       " 'encryption and fraud monitoring to protect your account and transactions We recommend you only send money to people you know and trust\\nV Account Management  Security\\nQ How do I report a lost or stolen debit or credit card\\nA Please call us immediately at 18005550101 247 We will cancel the lost card and issue a replacement You can also temporarily freeze your card through the mobile app as a precaution\\nQ What should I do if I suspect fraudulent activity on my account\\nA Contact our Fraud Prevention',\n",
       " 'ion\\nQ What should I do if I suspect fraudulent activity on my account\\nA Contact our Fraud Prevention department immediately at 18005550102 Review your recent transactions in online banking or the mobile app and report any unauthorized charges\\nQ How can I change my address or phone number\\nA You can update your contact information by logging into your online banking account and navigating to the Profile  Settings section You can also visit any branch with a valid photo ID to update your informatio',\n",
       " 'file  Settings section You can also visit any branch with a valid photo ID to update your information\\nQ How do I sign up for paperless statements\\nA Log into your online banking account go to Statements  Documents and select the option for eStatements Going paperless is secure convenient and environmentally friendly\\nVI Mobile  Online Banking\\nQ I forgot my online banking password How do I reset it\\nA On the login page of our website or mobile app click the Forgot Password link You will be prompted ',\n",
       " ' On the login page of our website or mobile app click the Forgot Password link You will be prompted to verify your identity with information such as your username Social Security Number and date of birth A temporary password will be sent to your registered email address\\nQ How does mobile check deposit work\\nA Log into the SecureBank app and select Deposit Check Endorse the back of the check by signing it and writing For Mobile Deposit at SecureBank Only Follow the onscreen instructions to take ph',\n",
       " 'ing it and writing For Mobile Deposit at SecureBank Only Follow the onscreen instructions to take photos of the front and back of the check Funds are typically available within 12 business days\\nQ Can I set up alerts for my account\\nA Yes We encourage you to set up account alerts You can receive notifications via email or text message for various activities such as low balances large withdrawals or when a direct deposit is received Configure your alerts in the Alerts section of online banking or t',\n",
       " 'when a direct deposit is received Configure your alerts in the Alerts section of online banking or the mobile app\\nVII General Information\\nQ What are your branch hours\\nA Most of our branches are open Monday through Friday from 900 AM to 500 PM and Saturdays from 900 AM to 100 PM Please use the branch locator on our website for the specific hours of the location nearest you\\nQ How can I contact customer service\\nA You can reach our Customer Service team by calling 18005550199 during business hours M',\n",
       " 'mer service\\nA You can reach our Customer Service team by calling 18005550199 during business hours MonFri 8 AM  8 PM Sat 9 AM  2 PM You can also send a secure message through your online banking portal\\nQ Are you open on federal holidays\\nA SecureBank observes all federal holidays Our branches will be closed on these days ATM mobile and online banking services will remain available']"
      ]
     },
     "metadata": {},
     "output_type": "display_data"
    }
   ],
   "source": [
    "display(chunks)"
   ]
  },
  {
   "cell_type": "code",
   "execution_count": 22,
   "metadata": {},
   "outputs": [
    {
     "name": "stderr",
     "output_type": "stream",
     "text": [
      "Inserting in 3x100 test batches: 100%|██████████| 22/22 [00:02<00:00,  9.75chunk/s]"
     ]
    },
    {
     "name": "stdout",
     "output_type": "stream",
     "text": [
      "Inserted 22 chunks in batches of 100.\n"
     ]
    },
    {
     "name": "stderr",
     "output_type": "stream",
     "text": [
      "\n"
     ]
    }
   ],
   "source": [
    "# ----------------------------\n",
    "# 3. Write raw chunks to SQL\n",
    "# ----------------------------\n",
    "# Suppose we create a table [PDF_RawChunks] with columns:\n",
    "#   id INT IDENTITY(1,1) PRIMARY KEY\n",
    "#   chunk_text NVARCHAR(MAX)\n",
    "#   source_pdf NVARCHAR(512)  (optional, if you want to store PDF name/path)\n",
    "#   created_at DATETIME2 DEFAULT GETDATE() (optional)\n",
    "#\n",
    "# Adjust as necessary if your table already exists.\n",
    "\n",
    "create_table_sql = \"\"\"\n",
    "IF NOT EXISTS (SELECT * FROM sys.objects WHERE object_id = OBJECT_ID(N'[dbo].[PDF_RawChunks]') AND type in (N'U'))\n",
    "BEGIN\n",
    "    CREATE TABLE [dbo].[PDF_RawChunks] (\n",
    "        [id] INT IDENTITY(1,1) NOT NULL PRIMARY KEY,\n",
    "        [chunk_text] NVARCHAR(MAX) NOT NULL,\n",
    "        [source_pdf] NVARCHAR(512) NULL,\n",
    "        [created_at] DATETIME2 NOT NULL DEFAULT GETDATE()\n",
    "    );\n",
    "END\n",
    "\"\"\"\n",
    "with engine.begin() as conn:\n",
    "    conn.execute(text(create_table_sql))\n",
    "\n",
    "\n",
    "test_chunks = chunks[:200]  # comment this out later to process ALL chunks\n",
    "\n",
    "batch_size = 100\n",
    "\n",
    "with engine.connect() as conn:\n",
    "    trans = conn.begin()\n",
    "    for i, ck in enumerate(\n",
    "        tqdm(test_chunks, desc=\"Inserting in 3x100 test batches\", unit=\"chunk\"),\n",
    "        start=1\n",
    "    ):\n",
    "        conn.execute(\n",
    "            text(\"INSERT INTO [dbo].[PDF_RawChunks] (chunk_text, source_pdf) VALUES (:ctext, :spdf)\"),\n",
    "            {\"ctext\": ck, \"spdf\": pdf_path}\n",
    "        )\n",
    "\n",
    "        # Commit every 100 inserts\n",
    "        if i % batch_size == 0:\n",
    "            trans.commit()\n",
    "            # If there's more data left to insert, start a new transaction\n",
    "            if i < len(test_chunks):\n",
    "                trans = conn.begin()\n",
    "\n",
    "    # If the total number isn't an exact multiple of batch_size\n",
    "    # commit leftover rows in the final partial batch\n",
    "    if len(test_chunks) % batch_size != 0:\n",
    "        trans.commit()\n",
    "\n",
    "print(f\"Inserted {len(test_chunks)} chunks in batches of {batch_size}.\")"
   ]
  },
  {
   "cell_type": "code",
   "execution_count": 25,
   "metadata": {},
   "outputs": [
    {
     "name": "stdout",
     "output_type": "stream",
     "text": [
      "Found 22 row(s) in PDF_RawChunks with no existing embedding.\n",
      "Preparing to insert 22 texts in batches of 100...\n",
      "Batch 1/1: inserting 22 items...\n",
      "All missing rows have been embedded and inserted into PDF_RawChunks_Embeddings!\n"
     ]
    }
   ],
   "source": [
    "# 1) Fetch Chunks from PDF_RawChunks That Need Embeddings\n",
    "select_sql = \"\"\"\n",
    "SELECT RC.id, RC.chunk_text, RC.source_pdf\n",
    "FROM PDF_RawChunks RC\n",
    "WHERE NOT EXISTS (\n",
    "    SELECT 1\n",
    "    FROM DocsChunks_Embeddings VEC\n",
    "    WHERE VEC.custom_id = CAST(RC.id AS VARCHAR(50))\n",
    ")\n",
    "ORDER BY RC.id\n",
    "\"\"\"\n",
    "\n",
    "with engine.connect() as conn:\n",
    "    result = conn.execute(text(select_sql))\n",
    "    rows = result.fetchall()\n",
    "\n",
    "print(f\"Found {len(rows)} row(s) in PDF_RawChunks with no existing embedding.\")\n",
    "\n",
    "# 2) Insert in Batches via vector_store.add_texts()\n",
    "\n",
    "batch_size = 100  # commit in batches of 100\n",
    "\n",
    "# Convert each row into text + metadata\n",
    "all_texts = []\n",
    "all_metadata = []\n",
    "\n",
    "for row in rows:\n",
    "    row_id   = row[0]\n",
    "    text_val = row[1]\n",
    "    pdf_path = row[2]\n",
    "\n",
    "    # build your metadata\n",
    "    meta_dict = {\n",
    "        \"custom_id\": str(row_id),   # store the PDF_RawChunks ID as a string\n",
    "        \"source_pdf\": pdf_path\n",
    "    }\n",
    "\n",
    "    all_texts.append(text_val)\n",
    "    all_metadata.append(meta_dict)\n",
    "\n",
    "print(f\"Preparing to insert {len(all_texts)} texts in batches of {batch_size}...\")\n",
    "\n",
    "from math import ceil\n",
    "\n",
    "num_rows = len(all_texts)\n",
    "num_batches = ceil(num_rows / batch_size)\n",
    "\n",
    "index = 0\n",
    "for b in range(num_batches):\n",
    "    # Slice out a batch\n",
    "    batch_texts = all_texts[index : index+batch_size]\n",
    "    batch_meta  = all_metadata[index : index+batch_size]\n",
    "    index += batch_size\n",
    "\n",
    "    print(f\"Batch {b+1}/{num_batches}: inserting {len(batch_texts)} items...\")\n",
    "    \n",
    "    # The vector_store call *immediately* does embeddings + inserts\n",
    "    # into the underlying table. So each call is effectively a \"mini commit.\"\n",
    "    vector_store.add_texts(\n",
    "        texts=batch_texts,\n",
    "        metadatas=batch_meta\n",
    "    )\n",
    "\n",
    "print(\"All missing rows have been embedded and inserted into PDF_RawChunks_Embeddings!\")"
   ]
  },
  {
   "cell_type": "code",
   "execution_count": 26,
   "metadata": {},
   "outputs": [
    {
     "name": "stdout",
     "output_type": "stream",
     "text": [
      "\n",
      "Result 1:\n",
      "Metadata = {'custom_id': '11', 'source_pdf': 'RAG_Preparation/SecureBank - Frequently Asked Questions.pdf'}\n",
      "Text    = 9  1999 These rates may vary with the market based on the Prime Rate\n",
      "Q What happens if I make a late payment\n",
      "A A late payment can have several consequ...\n",
      "\n",
      "Result 2:\n",
      "Metadata = {'custom_id': '10', 'source_pdf': 'RAG_Preparation/SecureBank - Frequently Asked Questions.pdf'}\n",
      "Text    = it Requires a\n",
      "security deposit\n",
      "Low APR Card Ideal for those who may carry a balance from month to month\n",
      "Q What are the interest rates APR for your cre...\n",
      "\n",
      "Result 3:\n",
      "Metadata = {'custom_id': '9', 'source_pdf': 'RAG_Preparation/SecureBank - Frequently Asked Questions.pdf'}\n",
      "Text    = pplication process\n",
      "Q What types of credit cards do you offer\n",
      "A We offer a range of credit cards to suit different needs\n",
      "Cash Back Rewards Card Earn 2 ...\n"
     ]
    }
   ],
   "source": [
    "query = \"What are the late payment fees on credit cards?\"\n",
    "docs = vector_store.similarity_search(query, k=3)\n",
    "for i, doc in enumerate(docs, 1):\n",
    "    print(f\"\\nResult {i}:\\nMetadata = {doc.metadata}\\nText    = {doc.page_content[:150]}...\")"
   ]
  }
 ],
 "metadata": {
  "kernelspec": {
   "display_name": "backend",
   "language": "python",
   "name": "python3"
  },
  "language_info": {
   "codemirror_mode": {
    "name": "ipython",
    "version": 3
   },
   "file_extension": ".py",
   "mimetype": "text/x-python",
   "name": "python",
   "nbconvert_exporter": "python",
   "pygments_lexer": "ipython3",
   "version": "3.11.9"
  }
 },
 "nbformat": 4,
 "nbformat_minor": 2
}
